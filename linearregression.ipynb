{
  "nbformat": 4,
  "nbformat_minor": 0,
  "metadata": {
    "colab": {
      "provenance": []
    },
    "kernelspec": {
      "name": "python3",
      "display_name": "Python 3"
    },
    "language_info": {
      "name": "python"
    }
  },
  "cells": [
    {
      "cell_type": "code",
      "execution_count": 2,
      "metadata": {
        "colab": {
          "base_uri": "https://localhost:8080/",
          "height": 424
        },
        "id": "hHP0986cxCm0",
        "outputId": "c2c69849-8080-4556-cd9a-d997d0187221"
      },
      "outputs": [
        {
          "output_type": "execute_result",
          "data": {
            "text/plain": [
              "        Date         Open\n",
              "0    44616.0  2305.000000\n",
              "1    44617.0  2280.100098\n",
              "2    44620.0  2243.000000\n",
              "3    44622.0  2334.449951\n",
              "4    44623.0  2400.000000\n",
              "..       ...          ...\n",
              "245  44977.0  2445.000000\n",
              "246  44978.0  2424.000000\n",
              "247  44979.0  2425.949951\n",
              "248  44980.0  2378.000000\n",
              "249  44981.0  2372.000000\n",
              "\n",
              "[250 rows x 2 columns]"
            ],
            "text/html": [
              "\n",
              "  <div id=\"df-c0fa143d-d4ca-4160-be30-1d89ee3aa8bf\">\n",
              "    <div class=\"colab-df-container\">\n",
              "      <div>\n",
              "<style scoped>\n",
              "    .dataframe tbody tr th:only-of-type {\n",
              "        vertical-align: middle;\n",
              "    }\n",
              "\n",
              "    .dataframe tbody tr th {\n",
              "        vertical-align: top;\n",
              "    }\n",
              "\n",
              "    .dataframe thead th {\n",
              "        text-align: right;\n",
              "    }\n",
              "</style>\n",
              "<table border=\"1\" class=\"dataframe\">\n",
              "  <thead>\n",
              "    <tr style=\"text-align: right;\">\n",
              "      <th></th>\n",
              "      <th>Date</th>\n",
              "      <th>Open</th>\n",
              "    </tr>\n",
              "  </thead>\n",
              "  <tbody>\n",
              "    <tr>\n",
              "      <th>0</th>\n",
              "      <td>44616.0</td>\n",
              "      <td>2305.000000</td>\n",
              "    </tr>\n",
              "    <tr>\n",
              "      <th>1</th>\n",
              "      <td>44617.0</td>\n",
              "      <td>2280.100098</td>\n",
              "    </tr>\n",
              "    <tr>\n",
              "      <th>2</th>\n",
              "      <td>44620.0</td>\n",
              "      <td>2243.000000</td>\n",
              "    </tr>\n",
              "    <tr>\n",
              "      <th>3</th>\n",
              "      <td>44622.0</td>\n",
              "      <td>2334.449951</td>\n",
              "    </tr>\n",
              "    <tr>\n",
              "      <th>4</th>\n",
              "      <td>44623.0</td>\n",
              "      <td>2400.000000</td>\n",
              "    </tr>\n",
              "    <tr>\n",
              "      <th>...</th>\n",
              "      <td>...</td>\n",
              "      <td>...</td>\n",
              "    </tr>\n",
              "    <tr>\n",
              "      <th>245</th>\n",
              "      <td>44977.0</td>\n",
              "      <td>2445.000000</td>\n",
              "    </tr>\n",
              "    <tr>\n",
              "      <th>246</th>\n",
              "      <td>44978.0</td>\n",
              "      <td>2424.000000</td>\n",
              "    </tr>\n",
              "    <tr>\n",
              "      <th>247</th>\n",
              "      <td>44979.0</td>\n",
              "      <td>2425.949951</td>\n",
              "    </tr>\n",
              "    <tr>\n",
              "      <th>248</th>\n",
              "      <td>44980.0</td>\n",
              "      <td>2378.000000</td>\n",
              "    </tr>\n",
              "    <tr>\n",
              "      <th>249</th>\n",
              "      <td>44981.0</td>\n",
              "      <td>2372.000000</td>\n",
              "    </tr>\n",
              "  </tbody>\n",
              "</table>\n",
              "<p>250 rows × 2 columns</p>\n",
              "</div>\n",
              "      <button class=\"colab-df-convert\" onclick=\"convertToInteractive('df-c0fa143d-d4ca-4160-be30-1d89ee3aa8bf')\"\n",
              "              title=\"Convert this dataframe to an interactive table.\"\n",
              "              style=\"display:none;\">\n",
              "        \n",
              "  <svg xmlns=\"http://www.w3.org/2000/svg\" height=\"24px\"viewBox=\"0 0 24 24\"\n",
              "       width=\"24px\">\n",
              "    <path d=\"M0 0h24v24H0V0z\" fill=\"none\"/>\n",
              "    <path d=\"M18.56 5.44l.94 2.06.94-2.06 2.06-.94-2.06-.94-.94-2.06-.94 2.06-2.06.94zm-11 1L8.5 8.5l.94-2.06 2.06-.94-2.06-.94L8.5 2.5l-.94 2.06-2.06.94zm10 10l.94 2.06.94-2.06 2.06-.94-2.06-.94-.94-2.06-.94 2.06-2.06.94z\"/><path d=\"M17.41 7.96l-1.37-1.37c-.4-.4-.92-.59-1.43-.59-.52 0-1.04.2-1.43.59L10.3 9.45l-7.72 7.72c-.78.78-.78 2.05 0 2.83L4 21.41c.39.39.9.59 1.41.59.51 0 1.02-.2 1.41-.59l7.78-7.78 2.81-2.81c.8-.78.8-2.07 0-2.86zM5.41 20L4 18.59l7.72-7.72 1.47 1.35L5.41 20z\"/>\n",
              "  </svg>\n",
              "      </button>\n",
              "      \n",
              "  <style>\n",
              "    .colab-df-container {\n",
              "      display:flex;\n",
              "      flex-wrap:wrap;\n",
              "      gap: 12px;\n",
              "    }\n",
              "\n",
              "    .colab-df-convert {\n",
              "      background-color: #E8F0FE;\n",
              "      border: none;\n",
              "      border-radius: 50%;\n",
              "      cursor: pointer;\n",
              "      display: none;\n",
              "      fill: #1967D2;\n",
              "      height: 32px;\n",
              "      padding: 0 0 0 0;\n",
              "      width: 32px;\n",
              "    }\n",
              "\n",
              "    .colab-df-convert:hover {\n",
              "      background-color: #E2EBFA;\n",
              "      box-shadow: 0px 1px 2px rgba(60, 64, 67, 0.3), 0px 1px 3px 1px rgba(60, 64, 67, 0.15);\n",
              "      fill: #174EA6;\n",
              "    }\n",
              "\n",
              "    [theme=dark] .colab-df-convert {\n",
              "      background-color: #3B4455;\n",
              "      fill: #D2E3FC;\n",
              "    }\n",
              "\n",
              "    [theme=dark] .colab-df-convert:hover {\n",
              "      background-color: #434B5C;\n",
              "      box-shadow: 0px 1px 3px 1px rgba(0, 0, 0, 0.15);\n",
              "      filter: drop-shadow(0px 1px 2px rgba(0, 0, 0, 0.3));\n",
              "      fill: #FFFFFF;\n",
              "    }\n",
              "  </style>\n",
              "\n",
              "      <script>\n",
              "        const buttonEl =\n",
              "          document.querySelector('#df-c0fa143d-d4ca-4160-be30-1d89ee3aa8bf button.colab-df-convert');\n",
              "        buttonEl.style.display =\n",
              "          google.colab.kernel.accessAllowed ? 'block' : 'none';\n",
              "\n",
              "        async function convertToInteractive(key) {\n",
              "          const element = document.querySelector('#df-c0fa143d-d4ca-4160-be30-1d89ee3aa8bf');\n",
              "          const dataTable =\n",
              "            await google.colab.kernel.invokeFunction('convertToInteractive',\n",
              "                                                     [key], {});\n",
              "          if (!dataTable) return;\n",
              "\n",
              "          const docLinkHtml = 'Like what you see? Visit the ' +\n",
              "            '<a target=\"_blank\" href=https://colab.research.google.com/notebooks/data_table.ipynb>data table notebook</a>'\n",
              "            + ' to learn more about interactive tables.';\n",
              "          element.innerHTML = '';\n",
              "          dataTable['output_type'] = 'display_data';\n",
              "          await google.colab.output.renderOutput(dataTable, element);\n",
              "          const docLink = document.createElement('div');\n",
              "          docLink.innerHTML = docLinkHtml;\n",
              "          element.appendChild(docLink);\n",
              "        }\n",
              "      </script>\n",
              "    </div>\n",
              "  </div>\n",
              "  "
            ]
          },
          "metadata": {},
          "execution_count": 2
        }
      ],
      "source": [
        "import pandas as pd\n",
        "df = pd.read_csv(\"/content/rvs.csv\")\n",
        "df"
      ]
    },
    {
      "cell_type": "code",
      "source": [
        "x=df.iloc[:,:-1].values"
      ],
      "metadata": {
        "id": "VfJOtj4zxGqd"
      },
      "execution_count": 18,
      "outputs": []
    },
    {
      "cell_type": "code",
      "source": [
        "x"
      ],
      "metadata": {
        "colab": {
          "base_uri": "https://localhost:8080/"
        },
        "id": "yBP-kPLVxQb8",
        "outputId": "7150d016-4e7d-41b3-c1d4-6241b36335c7"
      },
      "execution_count": 19,
      "outputs": [
        {
          "output_type": "execute_result",
          "data": {
            "text/plain": [
              "array([[44616.],\n",
              "       [44617.],\n",
              "       [44620.],\n",
              "       [44622.],\n",
              "       [44623.],\n",
              "       [44624.],\n",
              "       [44627.],\n",
              "       [44628.],\n",
              "       [44629.],\n",
              "       [44630.],\n",
              "       [44631.],\n",
              "       [44634.],\n",
              "       [44635.],\n",
              "       [44636.],\n",
              "       [44637.],\n",
              "       [44641.],\n",
              "       [44642.],\n",
              "       [44643.],\n",
              "       [44644.],\n",
              "       [44645.],\n",
              "       [44648.],\n",
              "       [44649.],\n",
              "       [44650.],\n",
              "       [44651.],\n",
              "       [44652.],\n",
              "       [44655.],\n",
              "       [44656.],\n",
              "       [44657.],\n",
              "       [44658.],\n",
              "       [44659.],\n",
              "       [44662.],\n",
              "       [44663.],\n",
              "       [44664.],\n",
              "       [44669.],\n",
              "       [44670.],\n",
              "       [44671.],\n",
              "       [44672.],\n",
              "       [44673.],\n",
              "       [44676.],\n",
              "       [44677.],\n",
              "       [44678.],\n",
              "       [44679.],\n",
              "       [44680.],\n",
              "       [44683.],\n",
              "       [44685.],\n",
              "       [44686.],\n",
              "       [44687.],\n",
              "       [44690.],\n",
              "       [44691.],\n",
              "       [44692.],\n",
              "       [44693.],\n",
              "       [44694.],\n",
              "       [44697.],\n",
              "       [44698.],\n",
              "       [44699.],\n",
              "       [44700.],\n",
              "       [44701.],\n",
              "       [44704.],\n",
              "       [44705.],\n",
              "       [44706.],\n",
              "       [44707.],\n",
              "       [44708.],\n",
              "       [44711.],\n",
              "       [44712.],\n",
              "       [44713.],\n",
              "       [44714.],\n",
              "       [44715.],\n",
              "       [44718.],\n",
              "       [44719.],\n",
              "       [44720.],\n",
              "       [44721.],\n",
              "       [44722.],\n",
              "       [44725.],\n",
              "       [44726.],\n",
              "       [44727.],\n",
              "       [44728.],\n",
              "       [44729.],\n",
              "       [44732.],\n",
              "       [44733.],\n",
              "       [44734.],\n",
              "       [44735.],\n",
              "       [44736.],\n",
              "       [44739.],\n",
              "       [44740.],\n",
              "       [44741.],\n",
              "       [44742.],\n",
              "       [44743.],\n",
              "       [44746.],\n",
              "       [44747.],\n",
              "       [44748.],\n",
              "       [44749.],\n",
              "       [44750.],\n",
              "       [44753.],\n",
              "       [44754.],\n",
              "       [44755.],\n",
              "       [44756.],\n",
              "       [44757.],\n",
              "       [44760.],\n",
              "       [44761.],\n",
              "       [44762.],\n",
              "       [44763.],\n",
              "       [44764.],\n",
              "       [44767.],\n",
              "       [44768.],\n",
              "       [44769.],\n",
              "       [44770.],\n",
              "       [44771.],\n",
              "       [44774.],\n",
              "       [44775.],\n",
              "       [44776.],\n",
              "       [44777.],\n",
              "       [44778.],\n",
              "       [44781.],\n",
              "       [44783.],\n",
              "       [44784.],\n",
              "       [44785.],\n",
              "       [44789.],\n",
              "       [44790.],\n",
              "       [44791.],\n",
              "       [44792.],\n",
              "       [44795.],\n",
              "       [44796.],\n",
              "       [44797.],\n",
              "       [44798.],\n",
              "       [44799.],\n",
              "       [44802.],\n",
              "       [44803.],\n",
              "       [44805.],\n",
              "       [44806.],\n",
              "       [44809.],\n",
              "       [44810.],\n",
              "       [44811.],\n",
              "       [44812.],\n",
              "       [44813.],\n",
              "       [44816.],\n",
              "       [44817.],\n",
              "       [44818.],\n",
              "       [44819.],\n",
              "       [44820.],\n",
              "       [44823.],\n",
              "       [44824.],\n",
              "       [44825.],\n",
              "       [44826.],\n",
              "       [44827.],\n",
              "       [44830.],\n",
              "       [44831.],\n",
              "       [44832.],\n",
              "       [44833.],\n",
              "       [44834.],\n",
              "       [44837.],\n",
              "       [44838.],\n",
              "       [44840.],\n",
              "       [44841.],\n",
              "       [44844.],\n",
              "       [44845.],\n",
              "       [44846.],\n",
              "       [44847.],\n",
              "       [44848.],\n",
              "       [44851.],\n",
              "       [44852.],\n",
              "       [44853.],\n",
              "       [44854.],\n",
              "       [44855.],\n",
              "       [44858.],\n",
              "       [44859.],\n",
              "       [44861.],\n",
              "       [44862.],\n",
              "       [44865.],\n",
              "       [44866.],\n",
              "       [44867.],\n",
              "       [44868.],\n",
              "       [44869.],\n",
              "       [44872.],\n",
              "       [44874.],\n",
              "       [44875.],\n",
              "       [44876.],\n",
              "       [44879.],\n",
              "       [44880.],\n",
              "       [44881.],\n",
              "       [44882.],\n",
              "       [44883.],\n",
              "       [44886.],\n",
              "       [44887.],\n",
              "       [44888.],\n",
              "       [44889.],\n",
              "       [44890.],\n",
              "       [44893.],\n",
              "       [44894.],\n",
              "       [44895.],\n",
              "       [44896.],\n",
              "       [44897.],\n",
              "       [44900.],\n",
              "       [44901.],\n",
              "       [44902.],\n",
              "       [44903.],\n",
              "       [44904.],\n",
              "       [44907.],\n",
              "       [44908.],\n",
              "       [44909.],\n",
              "       [44910.],\n",
              "       [44911.],\n",
              "       [44914.],\n",
              "       [44915.],\n",
              "       [44916.],\n",
              "       [44917.],\n",
              "       [44918.],\n",
              "       [44921.],\n",
              "       [44922.],\n",
              "       [44923.],\n",
              "       [44924.],\n",
              "       [44925.],\n",
              "       [44928.],\n",
              "       [44929.],\n",
              "       [44930.],\n",
              "       [44931.],\n",
              "       [44932.],\n",
              "       [44935.],\n",
              "       [44936.],\n",
              "       [44937.],\n",
              "       [44938.],\n",
              "       [44939.],\n",
              "       [44942.],\n",
              "       [44943.],\n",
              "       [44944.],\n",
              "       [44945.],\n",
              "       [44946.],\n",
              "       [44949.],\n",
              "       [44950.],\n",
              "       [44951.],\n",
              "       [44953.],\n",
              "       [44956.],\n",
              "       [44957.],\n",
              "       [44958.],\n",
              "       [44959.],\n",
              "       [44960.],\n",
              "       [44963.],\n",
              "       [44964.],\n",
              "       [44965.],\n",
              "       [44966.],\n",
              "       [44967.],\n",
              "       [44970.],\n",
              "       [44971.],\n",
              "       [44972.],\n",
              "       [44973.],\n",
              "       [44974.],\n",
              "       [44977.],\n",
              "       [44978.],\n",
              "       [44979.],\n",
              "       [44980.],\n",
              "       [44981.]])"
            ]
          },
          "metadata": {},
          "execution_count": 19
        }
      ]
    },
    {
      "cell_type": "code",
      "source": [
        "y=df.iloc[:,1].values"
      ],
      "metadata": {
        "id": "lvdyUbYsxRU8"
      },
      "execution_count": 20,
      "outputs": []
    },
    {
      "cell_type": "code",
      "source": [
        "y"
      ],
      "metadata": {
        "colab": {
          "base_uri": "https://localhost:8080/"
        },
        "id": "RQ8wzrIwxXK0",
        "outputId": "db93b5da-3cbd-4b38-81f3-43364a77a6c0"
      },
      "execution_count": 21,
      "outputs": [
        {
          "output_type": "execute_result",
          "data": {
            "text/plain": [
              "array([2305.      , 2280.100098, 2243.      , 2334.449951, 2400.      ,\n",
              "       2353.      , 2278.699951, 2211.5     , 2236.      , 2400.      ,\n",
              "       2376.050049, 2386.899902, 2427.949951, 2382.      , 2432.75    ,\n",
              "       2444.      , 2460.100098, 2523.      , 2510.      , 2582.5     ,\n",
              "       2610.      , 2638.      , 2639.899902, 2664.949951, 2636.      ,\n",
              "       2655.449951, 2651.100098, 2587.100098, 2595.100098, 2560.      ,\n",
              "       2600.      , 2587.      , 2574.5     , 2533.      , 2558.      ,\n",
              "       2657.100098, 2750.899902, 2758.899902, 2742.399902, 2710.      ,\n",
              "       2755.850098, 2809.949951, 2856.149902, 2762.      , 2785.      ,\n",
              "       2723.5     , 2612.199951, 2574.949951, 2495.      , 2472.649902,\n",
              "       2427.5     , 2426.      , 2434.449951, 2435.100098, 2539.649902,\n",
              "       2484.      , 2512.5     , 2631.5     , 2607.      , 2635.      ,\n",
              "       2624.399902, 2593.050049, 2615.      , 2641.399902, 2634.300049,\n",
              "       2634.      , 2744.      , 2780.      , 2769.899902, 2772.75    ,\n",
              "       2710.      , 2771.899902, 2650.      , 2650.050049, 2617.550049,\n",
              "       2623.      , 2560.      , 2605.      , 2560.      , 2558.100098,\n",
              "       2515.050049, 2480.      , 2544.949951, 2482.100098, 2507.199951,\n",
              "       2580.      , 2574.899902, 2378.949951, 2423.      , 2420.100098,\n",
              "       2425.899902, 2418.      , 2376.5     , 2404.      , 2427.300049,\n",
              "       2388.      , 2415.      , 2421.      , 2400.300049, 2540.      ,\n",
              "       2494.      , 2500.      , 2467.449951, 2421.100098, 2419.949951,\n",
              "       2436.      , 2474.699951, 2519.149902, 2572.5     , 2600.      ,\n",
              "       2610.      , 2576.      , 2531.      , 2576.899902, 2603.100098,\n",
              "       2590.300049, 2646.199951, 2665.      , 2660.      , 2650.      ,\n",
              "       2617.      , 2594.      , 2640.100098, 2648.949951, 2633.      ,\n",
              "       2585.      , 2614.      , 2582.649902, 2560.399902, 2531.      ,\n",
              "       2573.      , 2575.      , 2588.25    , 2610.      , 2570.550049,\n",
              "       2618.      , 2575.      , 2583.      , 2543.75    , 2499.199951,\n",
              "       2522.449951, 2496.75    , 2486.      , 2485.      , 2394.050049,\n",
              "       2394.      , 2360.350098, 2360.      , 2311.      , 2391.5     ,\n",
              "       2397.800049, 2429.      , 2414.649902, 2405.      , 2414.      ,\n",
              "       2352.      , 2371.399902, 2415.      , 2355.      , 2422.      ,\n",
              "       2454.5     , 2485.      , 2507.699951, 2460.      , 2499.      ,\n",
              "       2458.      , 2465.      , 2541.      , 2600.      , 2532.300049,\n",
              "       2529.850098, 2553.899902, 2591.      , 2610.300049, 2590.      ,\n",
              "       2600.      , 2630.75    , 2622.300049, 2610.      , 2584.949951,\n",
              "       2606.75    , 2588.      , 2545.      , 2575.      , 2566.      ,\n",
              "       2589.      , 2608.899902, 2703.949951, 2712.5     , 2741.800049,\n",
              "       2730.      , 2712.      , 2665.100098, 2685.      , 2660.      ,\n",
              "       2646.      , 2585.5     , 2613.100098, 2637.649902, 2602.5     ,\n",
              "       2571.      , 2581.      , 2583.899902, 2621.      , 2598.      ,\n",
              "       2563.300049, 2514.75    , 2530.      , 2538.      , 2527.      ,\n",
              "       2545.100098, 2550.      , 2565.050049, 2557.      , 2523.5     ,\n",
              "       2526.649902, 2545.300049, 2606.      , 2552.5     , 2524.850098,\n",
              "       2458.399902, 2472.699951, 2458.      , 2473.5     , 2472.899902,\n",
              "       2475.      , 2449.      , 2440.      , 2412.449951, 2384.399902,\n",
              "       2331.699951, 2382.      , 2379.949951, 2318.      , 2349.      ,\n",
              "       2315.      , 2312.      , 2313.      , 2353.449951, 2354.899902,\n",
              "       2340.199951, 2329.949951, 2376.      , 2449.449951, 2420.      ,\n",
              "       2445.      , 2424.      , 2425.949951, 2378.      , 2372.      ])"
            ]
          },
          "metadata": {},
          "execution_count": 21
        }
      ]
    },
    {
      "cell_type": "code",
      "source": [
        "from sklearn.linear_model import LinearRegression\n",
        "regressor=LinearRegression()\n",
        "regressor.fit(x,y)"
      ],
      "metadata": {
        "colab": {
          "base_uri": "https://localhost:8080/"
        },
        "id": "lAzZkfzcxX7s",
        "outputId": "97995106-f363-4140-89d2-11fe08a1a7f3"
      },
      "execution_count": 22,
      "outputs": [
        {
          "output_type": "execute_result",
          "data": {
            "text/plain": [
              "LinearRegression()"
            ]
          },
          "metadata": {},
          "execution_count": 22
        }
      ]
    },
    {
      "cell_type": "code",
      "source": [
        "import matplotlib.pyplot as plt\n"
      ],
      "metadata": {
        "id": "Jmi-1c4ixh0c"
      },
      "execution_count": 24,
      "outputs": []
    },
    {
      "cell_type": "code",
      "source": [
        "y_pred=regressor.predict(x)"
      ],
      "metadata": {
        "id": "jcjlpfrbyaH8"
      },
      "execution_count": 25,
      "outputs": []
    },
    {
      "cell_type": "code",
      "source": [
        "plt.scatter(x,y, color=\"red\")"
      ],
      "metadata": {
        "colab": {
          "base_uri": "https://localhost:8080/",
          "height": 282
        },
        "id": "t6NjOH-NytYl",
        "outputId": "a47e0c14-f07c-4d43-a7b0-5c38b6af150f"
      },
      "execution_count": 27,
      "outputs": [
        {
          "output_type": "execute_result",
          "data": {
            "text/plain": [
              "<matplotlib.collections.PathCollection at 0x7fc92a5791f0>"
            ]
          },
          "metadata": {},
          "execution_count": 27
        },
        {
          "output_type": "display_data",
          "data": {
            "text/plain": [
              "<Figure size 432x288 with 1 Axes>"
            ],
            "image/png": "[encoded data removed]"
          },
          "metadata": {
            "needs_background": "light"
          }
        }
      ]
    },
    {
      "cell_type": "code",
      "source": [
        "plt.scatter(x,y, color=\"red\")\n",
        "plt.plot(x,regressor.predict(x),color=\"blue\")\n",
        "plt.xlabel(\"package\")\n",
        "plt.ylabel(\"sales\")\n",
        "plt.show()"
      ],
      "metadata": {
        "colab": {
          "base_uri": "https://localhost:8080/",
          "height": 279
        },
        "id": "aROukQISyy3F",
        "outputId": "b8ceb757-bf50-4f17-baa9-a352e4ebcc8d"
      },
      "execution_count": 29,
      "outputs": [
        {
          "output_type": "display_data",
          "data": {
            "text/plain": [
              "<Figure size 432x288 with 1 Axes>"
            ],
            "image/png": "[encoded data removed]"
          },
          "metadata": {
            "needs_background": "light"
          }
        }
      ]
    },
    {
      "cell_type": "code",
      "source": [],
      "metadata": {
        "id": "8B4RlwprzSvZ"
      },
      "execution_count": null,
      "outputs": []
    }
  ]
}